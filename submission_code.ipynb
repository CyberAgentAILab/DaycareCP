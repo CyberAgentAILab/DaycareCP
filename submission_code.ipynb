{
 "cells": [
  {
   "cell_type": "code",
   "execution_count": 1,
   "id": "f95ae951",
   "metadata": {},
   "outputs": [],
   "source": [
    "import pickle\n",
    "from helper_functions import create_agents, get_agent\n",
    "from CP_algo import CP"
   ]
  },
  {
   "cell_type": "markdown",
   "id": "e7a29c51",
   "metadata": {},
   "source": [
    "## An Artificial Data Set\n",
    "\n",
    "This dataset was generated with reference to an actual example of a Japanese local government.\n",
    "\n",
    "- `children_dic`, `daycares_dic`, `families_dic`"
   ]
  },
  {
   "cell_type": "code",
   "execution_count": 2,
   "id": "20e7a2ab",
   "metadata": {},
   "outputs": [],
   "source": [
    "children_dic, daycares_dic, families_dic = pickle.load(open(\"example_data.pkl\", \"rb\"))"
   ]
  },
  {
   "cell_type": "markdown",
   "id": "3e41223c",
   "metadata": {},
   "source": [
    "## Parameters\n",
    "\n",
    "- `share_bool`: bool (default True)\n",
    "    - whether transferable quotas are allowed or not\n",
    "\n",
    "- `bp_num`: integer  (default 0)\n",
    "    - the number of maximum blocking coalitions\n",
    "\n",
    "- `solver_time` integer (default 1000)\n",
    "    - maximum running time (seconds)\n",
    "\n",
    "- `exclude_bool`: bool (default True)\n",
    "    - for a different non-wastefulness concepts\n",
    "\n",
    "- `search_depth`: integer (default 0)\n",
    "    - the number of maximum indifferences in daycares' priorities"
   ]
  },
  {
   "cell_type": "code",
   "execution_count": 3,
   "id": "632a81b9",
   "metadata": {},
   "outputs": [],
   "source": [
    "share_bool = True\n",
    "bp_num = 0\n",
    "solver_time = 1000\n",
    "exclude_bool = False\n",
    "search_depth = 0"
   ]
  },
  {
   "cell_type": "markdown",
   "id": "ef8d24af",
   "metadata": {},
   "source": [
    " ## check CP\n",
    " "
   ]
  },
  {
   "cell_type": "code",
   "execution_count": 4,
   "id": "fe700640",
   "metadata": {},
   "outputs": [
    {
     "name": "stdout",
     "output_type": "stream",
     "text": [
      "OPTIMAL\n",
      "Totally matched: 497.0\n",
      "solver time elapsed 0.6150012016296387\n"
     ]
    }
   ],
   "source": [
    "outcome_children_dic, outcome_f_CP = CP(\n",
    "    children_dic,\n",
    "    daycares_dic,\n",
    "    families_dic,\n",
    "    share_bool,\n",
    "    bp_num,\n",
    "    solver_time,\n",
    "    exclude_bool,\n",
    "    search_depth,\n",
    ")"
   ]
  },
  {
   "cell_type": "markdown",
   "id": "386c4a6a",
   "metadata": {},
   "source": [
    "## calculate blocking coalitions\n",
    "\n",
    "`outcome_f[f.id, p]`: for each f and for each p in range(len(f.pref))\n",
    "\n",
    "- binary (0 or 1)\n",
    "- f.pref = (1,1), (2,2), (3,3)、when the assignment is (2,2)\n",
    "- `outcome_f[f.id, 0] = 0`, `outcome_f[f.id, 1] = 1`, `outcome_f[f.id, 2] = 0`"
   ]
  },
  {
   "cell_type": "code",
   "execution_count": 5,
   "id": "a33cc578",
   "metadata": {},
   "outputs": [],
   "source": [
    "def check_bp(children_dic, daycares_dic, families_dic, outcome_f):\n",
    "    # create CP_agents\n",
    "    children, daycares, families = create_agents(\n",
    "        children_dic, daycares_dic, families_dic\n",
    "    )\n",
    "\n",
    "    # update f.assignment & c.assigned_daycare\n",
    "    for f in families:\n",
    "        for p in range(len(f.pref)):\n",
    "            if outcome_f[f.id, p] == 1:\n",
    "                f.assignment = p\n",
    "\n",
    "                for cid in f.children:\n",
    "                    c = get_agent(cid, children)\n",
    "                    c.assigned_daycare = c.projected_pref[p]\n",
    "\n",
    "        if f.assignment == None:\n",
    "            f.assignment = len(f.pref)\n",
    "\n",
    "    # blocking coalition\n",
    "    bp_dic = {}\n",
    "    for f in families:\n",
    "        bp_dic[f.id] = []\n",
    "\n",
    "    for f in families:\n",
    "        # ignore all families who are matched to their top choice\n",
    "        if f.assignment != 0:\n",
    "            # check every position prior to f.assignment\n",
    "            for p in range(f.assignment):\n",
    "                # D(f, p)\n",
    "                D_fp = f.return_daycare_id_for_certain_position(p)\n",
    "                bool_all = 0\n",
    "\n",
    "                for d in D_fp:\n",
    "                    # default all 0 (could accept C_fpd)\n",
    "                    bool_fpd = [0 for i in range(6)]\n",
    "                    # C(f,p,d)\n",
    "                    C_fpd = f.return_children_for_certain_position_and_daycare(p, d)\n",
    "                    for g in range(6):\n",
    "                        # C(f,p,d,g)\n",
    "                        C_fpdg = f.return_siblings_for_certain_position_daycare_age(\n",
    "                            p, d, g, False, children, daycares\n",
    "                        )\n",
    "                        if len(C_fpdg) != 0:\n",
    "                            w_fpd = f.return_lowest_sibling_for_certain_position_daycare_age(\n",
    "                                p, d, g, False, children, daycares\n",
    "                            )\n",
    "                            daycare = get_agent(d, daycares)\n",
    "                            better_cid = daycare.return_weak_better_children_than_child_excluding_siblings(\n",
    "                                w_fpd, children, False, True, 0\n",
    "                            )\n",
    "                            better_number = 0\n",
    "                            for x in better_cid:\n",
    "                                xc = get_agent(x, children)\n",
    "                                if xc.assigned_daycare == d:\n",
    "                                    better_number += 1\n",
    "\n",
    "                            if (\n",
    "                                better_number + len(C_fpdg)\n",
    "                                > daycare.recruiting_numbers[g]\n",
    "                            ):\n",
    "                                bool_fpd[g] = 1\n",
    "\n",
    "                    if sum(bool_fpd) == 0:\n",
    "                        bool_all += 1\n",
    "\n",
    "                if bool_all == len(D_fp):\n",
    "                    if p not in bp_dic[f.id]:\n",
    "                        bp_dic[f.id].append(p)\n",
    "\n",
    "    return bp_dic"
   ]
  },
  {
   "cell_type": "code",
   "execution_count": 6,
   "id": "dc77611e",
   "metadata": {},
   "outputs": [
    {
     "name": "stdout",
     "output_type": "stream",
     "text": [
      "number of blocking coalition is 0\n"
     ]
    }
   ],
   "source": [
    "bp_dic = check_bp(children_dic, daycares_dic, families_dic, outcome_f_CP)\n",
    "\n",
    "bp_num = 0\n",
    "for key in bp_dic.keys():\n",
    "    bp_num += len(bp_dic[key])\n",
    "\n",
    "print(\"number of blocking coalition is\", bp_num)"
   ]
  }
 ],
 "metadata": {
  "kernelspec": {
   "display_name": "Python 3 (ipykernel)",
   "language": "python",
   "name": "python3"
  },
  "language_info": {
   "codemirror_mode": {
    "name": "ipython",
    "version": 3
   },
   "file_extension": ".py",
   "mimetype": "text/x-python",
   "name": "python",
   "nbconvert_exporter": "python",
   "pygments_lexer": "ipython3",
   "version": "3.10.12"
  }
 },
 "nbformat": 4,
 "nbformat_minor": 5
}
